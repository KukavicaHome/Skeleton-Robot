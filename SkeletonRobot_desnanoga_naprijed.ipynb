{
  "nbformat": 4,
  "nbformat_minor": 0,
  "metadata": {
    "colab": {
      "provenance": [],
      "authorship_tag": "ABX9TyP+qq2WKUpWRVYzAX/liDRy",
      "include_colab_link": true
    },
    "kernelspec": {
      "name": "python3",
      "display_name": "Python 3"
    },
    "language_info": {
      "name": "python"
    }
  },
  "cells": [
    {
      "cell_type": "markdown",
      "metadata": {
        "id": "view-in-github",
        "colab_type": "text"
      },
      "source": [
        "<a href=\"https://colab.research.google.com/github/KukavicaHome/Skeleton-Robot/blob/main/SkeletonRobot_desnanoga_naprijed.ipynb\" target=\"_parent\"><img src=\"https://colab.research.google.com/assets/colab-badge.svg\" alt=\"Open In Colab\"/></a>"
      ]
    },
    {
      "cell_type": "code",
      "execution_count": 1,
      "metadata": {
        "colab": {
          "base_uri": "https://localhost:8080/",
          "height": 400
        },
        "id": "89kj6RlZwOt4",
        "outputId": "fe2eb417-6029-4da1-a192-699298b9b7c0"
      },
      "outputs": [
        {
          "output_type": "display_data",
          "data": {
            "text/plain": [
              "<Figure size 640x480 with 1 Axes>"
            ],
            "image/png": "[encoded data removed]"
          },
          "metadata": {}
        }
      ],
      "source": [
        "\n",
        "import matplotlib.pyplot as plt\n",
        "import matplotlib.patches as patches\n",
        "import numpy as np\n",
        "\n",
        "# Funkcija za rotaciju segmenta\n",
        "def next_point(origin, length, angle_deg):\n",
        "    angle_rad = np.radians(angle_deg)\n",
        "    x = origin[0] + length * np.sin(angle_rad)\n",
        "    y = origin[1] - length * np.cos(angle_rad)\n",
        "    return (x, y)\n",
        "\n",
        "# Parametri\n",
        "trup_width = 1\n",
        "trup_height = 10\n",
        "glava_radius = 2.3\n",
        "\n",
        "nadlaktica = 5.5\n",
        "podlaktica = 5\n",
        "saka = 1.5\n",
        "natkoljenica = 5\n",
        "potkoljenica = 5\n",
        "stopalo = 2.5\n",
        "\n",
        "# Uglovi u stepenima\n",
        "uglovi = {\n",
        "    'desna_ruka_rame': 20,\n",
        "    'desna_ruka_lakat': 10,\n",
        "    'lijeva_ruka_rame': -20,\n",
        "    'lijeva_ruka_lakat': -10,\n",
        "    'desna_noga_kuk': 20,\n",
        "    'desna_noga_koljeno': -10,\n",
        "    'lijeva_noga_kuk': -20,\n",
        "    'lijeva_noga_koljeno': 10,\n",
        "}\n",
        "\n",
        "# Početne tačke\n",
        "trup_bottom = (0, 0)\n",
        "trup_top = (0, trup_height)\n",
        "glava_center = (trup_width / 2, trup_height + glava_radius)\n",
        "\n",
        "# Rame i kuk – referentne tačke\n",
        "rame_d = (trup_width, trup_height)\n",
        "rame_l = (0, trup_height)\n",
        "kuk_d = (trup_width, 0)\n",
        "kuk_l = (0, 0)\n",
        "\n",
        "# Desna ruka\n",
        "lakat_d = next_point(rame_d, nadlaktica, uglovi['desna_ruka_rame'])\n",
        "zglob_d = next_point(lakat_d, podlaktica, uglovi['desna_ruka_rame'] + uglovi['desna_ruka_lakat'])\n",
        "saka_d = next_point(zglob_d, saka, uglovi['desna_ruka_rame'] + uglovi['desna_ruka_lakat'])\n",
        "\n",
        "# Lijeva ruka (ispravka: podlaktica i šaka savijaju se suprotno od lakta)\n",
        "lakat_l = next_point(rame_l, nadlaktica, uglovi['lijeva_ruka_rame'])\n",
        "zglob_l = next_point(lakat_l, podlaktica, uglovi['lijeva_ruka_rame'] - uglovi['lijeva_ruka_lakat'])  # OVDJE ISPRAVKA\n",
        "saka_l = next_point(zglob_l, saka, uglovi['lijeva_ruka_rame'] - uglovi['lijeva_ruka_lakat'])        # OVDJE ISPRAVKA\n",
        "\n",
        "# Desna noga\n",
        "koljeno_d = next_point(kuk_d, natkoljenica, uglovi['desna_noga_kuk'])\n",
        "glezanj_d = next_point(koljeno_d, potkoljenica, uglovi['desna_noga_kuk'] + uglovi['desna_noga_koljeno'])\n",
        "stopalo_d = (glezanj_d[0] + stopalo, glezanj_d[1])\n",
        "\n",
        "# Lijeva noga\n",
        "koljeno_l = next_point(kuk_l, natkoljenica, uglovi['lijeva_noga_kuk'])\n",
        "glezanj_l = next_point(koljeno_l, potkoljenica, uglovi['lijeva_noga_kuk'] + uglovi['lijeva_noga_koljeno'])\n",
        "stopalo_l = (glezanj_l[0] + stopalo, glezanj_l[1])\n",
        "\n",
        "# Crtanje\n",
        "fig, ax = plt.subplots()\n",
        "ax.set_aspect('equal')\n",
        "ax.set_xlim(-10, 10)\n",
        "ax.set_ylim(-15, 20)\n",
        "\n",
        "# Trup\n",
        "trup = patches.Rectangle(trup_bottom, trup_width, trup_height, fill=False)\n",
        "ax.add_patch(trup)\n",
        "\n",
        "# Glava\n",
        "glava = patches.Circle(glava_center, glava_radius, fill=False)\n",
        "ax.add_patch(glava)\n",
        "\n",
        "# Ruke\n",
        "ax.plot([rame_d[0], lakat_d[0]], [rame_d[1], lakat_d[1]], 'b-', linewidth=2)\n",
        "ax.plot([lakat_d[0], zglob_d[0]], [lakat_d[1], zglob_d[1]], 'b-', linewidth=2)\n",
        "ax.plot([zglob_d[0], saka_d[0]], [zglob_d[1], saka_d[1]], 'b--', linewidth=2)\n",
        "\n",
        "ax.plot([rame_l[0], lakat_l[0]], [rame_l[1], lakat_l[1]], 'b-', linewidth=2)\n",
        "ax.plot([lakat_l[0], zglob_l[0]], [lakat_l[1], zglob_l[1]], 'b-', linewidth=2)\n",
        "ax.plot([zglob_l[0], saka_l[0]], [zglob_l[1], saka_l[1]], 'b--', linewidth=2)\n",
        "\n",
        "# Noge\n",
        "ax.plot([kuk_d[0], koljeno_d[0]], [kuk_d[1], koljeno_d[1]], 'r-', linewidth=2)\n",
        "ax.plot([koljeno_d[0], glezanj_d[0]], [koljeno_d[1], glezanj_d[1]], 'r-', linewidth=2)\n",
        "ax.plot([glezanj_d[0], stopalo_d[0]], [glezanj_d[1], stopalo_d[1]], 'r--', linewidth=2)\n",
        "\n",
        "ax.plot([kuk_l[0], koljeno_l[0]], [kuk_l[1], koljeno_l[1]], 'r-', linewidth=2)\n",
        "ax.plot([koljeno_l[0], glezanj_l[0]], [koljeno_l[1], glezanj_l[1]], 'r-', linewidth=2)\n",
        "ax.plot([glezanj_l[0], stopalo_l[0]], [glezanj_l[1], stopalo_l[1]], 'r--', linewidth=2)\n",
        "\n",
        "# Prikaz\n",
        "plt.title(\"Korak – desna noga i ruka naprijed\")\n",
        "plt.grid(True)\n",
        "plt.show()"
      ]
    }
  ]
}